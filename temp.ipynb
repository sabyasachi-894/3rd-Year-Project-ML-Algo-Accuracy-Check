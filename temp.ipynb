{
 "cells": [
  {
   "cell_type": "code",
   "execution_count": 80,
   "metadata": {},
   "outputs": [],
   "source": [
    "import numpy as np\n",
    "import pandas as pd\n",
    "from sklearn.model_selection import train_test_split\n",
    "from sklearn.preprocessing import LabelEncoder\n",
    "from sklearn.preprocessing import StandardScaler\n",
    "from keras.models import Sequential\n",
    "from keras.layers import Dense\n",
    "from sklearn.metrics import accuracy_score\n",
    "\n",
    "# Step 2: Load and preprocess data\n",
    "data = pd.read_csv(r'C:\\Users\\Lenovo\\Desktop\\Project 3rd Year\\dataset.csv')\n",
    "# Perform any necessary preprocessing steps here\n",
    "\n",
    "# Split the data into input features and target variable\n",
    "X = data.drop('Label', axis=1)\n",
    "y = data['Label']\n",
    "\n",
    "# Encode the target variable\n",
    "label_encoder = LabelEncoder()\n",
    "y_encoded = label_encoder.fit_transform(y)\n",
    "\n",
    "# Preprocess the data by scaling the features\n",
    "scaler = StandardScaler()\n",
    "X_scaled = scaler.fit_transform(X)\n",
    "\n",
    "# Step 3: Choose a model\n",
    "model = Sequential()\n",
    "model.add(Dense(units=512, activation='relu', input_dim=X.shape[1]))\n",
    "model.add(Dense(units=256, activation='relu'))\n",
    "model.add(Dense(units=256, activation='relu'))\n",
    "model.add(Dense(units=512, activation='softmax'))\n",
    "\n",
    "# Step 4: Train the model\n",
    "X_train, X_test, y_train, y_test = train_test_split(X_scaled, y_encoded, test_size=0.2, random_state=42)"
   ]
  },
  {
   "cell_type": "code",
   "execution_count": 81,
   "metadata": {},
   "outputs": [
    {
     "data": {
      "text/plain": [
       "(1043,)"
      ]
     },
     "execution_count": 81,
     "metadata": {},
     "output_type": "execute_result"
    }
   ],
   "source": [
    "y_train.shape"
   ]
  },
  {
   "cell_type": "code",
   "execution_count": 82,
   "metadata": {},
   "outputs": [
    {
     "name": "stdout",
     "output_type": "stream",
     "text": [
      "Epoch 1/50\n",
      "33/33 [==============================] - 1s 1ms/step - loss: 4.7662 - accuracy: 0.0767 \n",
      "Epoch 2/50\n",
      "33/33 [==============================] - 0s 1ms/step - loss: 2.8974 - accuracy: 0.3787\n",
      "Epoch 3/50\n",
      "33/33 [==============================] - 0s 2ms/step - loss: 1.3666 - accuracy: 0.6721\n",
      "Epoch 4/50\n",
      "33/33 [==============================] - 0s 2ms/step - loss: 0.6942 - accuracy: 0.8207\n",
      "Epoch 5/50\n",
      "33/33 [==============================] - 0s 1ms/step - loss: 0.4265 - accuracy: 0.8888\n",
      "Epoch 6/50\n",
      "33/33 [==============================] - 0s 1ms/step - loss: 0.2897 - accuracy: 0.9281\n",
      "Epoch 7/50\n",
      "33/33 [==============================] - 0s 1ms/step - loss: 0.2088 - accuracy: 0.9482\n",
      "Epoch 8/50\n",
      "33/33 [==============================] - 0s 2ms/step - loss: 0.1527 - accuracy: 0.9597\n",
      "Epoch 9/50\n",
      "33/33 [==============================] - 0s 1ms/step - loss: 0.0972 - accuracy: 0.9779\n",
      "Epoch 10/50\n",
      "33/33 [==============================] - 0s 2ms/step - loss: 0.0991 - accuracy: 0.9770\n",
      "Epoch 11/50\n",
      "33/33 [==============================] - 0s 2ms/step - loss: 0.0725 - accuracy: 0.9760\n",
      "Epoch 12/50\n",
      "33/33 [==============================] - 0s 2ms/step - loss: 0.0645 - accuracy: 0.9866\n",
      "Epoch 13/50\n",
      "33/33 [==============================] - 0s 2ms/step - loss: 0.0897 - accuracy: 0.9799\n",
      "Epoch 14/50\n",
      "33/33 [==============================] - 0s 2ms/step - loss: 0.0394 - accuracy: 0.9895\n",
      "Epoch 15/50\n",
      "33/33 [==============================] - 0s 2ms/step - loss: 0.0457 - accuracy: 0.9847\n",
      "Epoch 16/50\n",
      "33/33 [==============================] - 0s 2ms/step - loss: 0.0369 - accuracy: 0.9875\n",
      "Epoch 17/50\n",
      "33/33 [==============================] - 0s 2ms/step - loss: 0.0327 - accuracy: 0.9895\n",
      "Epoch 18/50\n",
      "33/33 [==============================] - 0s 2ms/step - loss: 0.0263 - accuracy: 0.9895\n",
      "Epoch 19/50\n",
      "33/33 [==============================] - 0s 2ms/step - loss: 0.0233 - accuracy: 0.9904\n",
      "Epoch 20/50\n",
      "33/33 [==============================] - 0s 2ms/step - loss: 0.0236 - accuracy: 0.9923\n",
      "Epoch 21/50\n",
      "33/33 [==============================] - 0s 2ms/step - loss: 0.0177 - accuracy: 0.9914\n",
      "Epoch 22/50\n",
      "33/33 [==============================] - 0s 2ms/step - loss: 0.0161 - accuracy: 0.9962\n",
      "Epoch 23/50\n",
      "33/33 [==============================] - 0s 2ms/step - loss: 0.0128 - accuracy: 0.9942\n",
      "Epoch 24/50\n",
      "33/33 [==============================] - 0s 2ms/step - loss: 0.0230 - accuracy: 0.9904\n",
      "Epoch 25/50\n",
      "33/33 [==============================] - 0s 2ms/step - loss: 0.0154 - accuracy: 0.9942\n",
      "Epoch 26/50\n",
      "33/33 [==============================] - 0s 2ms/step - loss: 0.0248 - accuracy: 0.9923\n",
      "Epoch 27/50\n",
      "33/33 [==============================] - 0s 2ms/step - loss: 0.0248 - accuracy: 0.9942\n",
      "Epoch 28/50\n",
      "33/33 [==============================] - 0s 2ms/step - loss: 0.0147 - accuracy: 0.9933\n",
      "Epoch 29/50\n",
      "33/33 [==============================] - 0s 2ms/step - loss: 0.0237 - accuracy: 0.9933\n",
      "Epoch 30/50\n",
      "33/33 [==============================] - 0s 2ms/step - loss: 0.0181 - accuracy: 0.9914\n",
      "Epoch 31/50\n",
      "33/33 [==============================] - 0s 2ms/step - loss: 0.0211 - accuracy: 0.9933\n",
      "Epoch 32/50\n",
      "33/33 [==============================] - 0s 2ms/step - loss: 0.0243 - accuracy: 0.9895\n",
      "Epoch 33/50\n",
      "33/33 [==============================] - 0s 2ms/step - loss: 0.0209 - accuracy: 0.9914\n",
      "Epoch 34/50\n",
      "33/33 [==============================] - 0s 2ms/step - loss: 0.0109 - accuracy: 0.9942\n",
      "Epoch 35/50\n",
      "33/33 [==============================] - 0s 2ms/step - loss: 0.0110 - accuracy: 0.9942\n",
      "Epoch 36/50\n",
      "33/33 [==============================] - 0s 2ms/step - loss: 0.0141 - accuracy: 0.9923\n",
      "Epoch 37/50\n",
      "33/33 [==============================] - 0s 2ms/step - loss: 0.0147 - accuracy: 0.9933\n",
      "Epoch 38/50\n",
      "33/33 [==============================] - 0s 2ms/step - loss: 0.0295 - accuracy: 0.9875\n",
      "Epoch 39/50\n",
      "33/33 [==============================] - 0s 2ms/step - loss: 0.0352 - accuracy: 0.9904\n",
      "Epoch 40/50\n",
      "33/33 [==============================] - 0s 2ms/step - loss: 0.0287 - accuracy: 0.9904\n",
      "Epoch 41/50\n",
      "33/33 [==============================] - 0s 2ms/step - loss: 0.0503 - accuracy: 0.9856\n",
      "Epoch 42/50\n",
      "33/33 [==============================] - 0s 2ms/step - loss: 0.2814 - accuracy: 0.9300\n",
      "Epoch 43/50\n",
      "33/33 [==============================] - 0s 2ms/step - loss: 0.3747 - accuracy: 0.8984\n",
      "Epoch 44/50\n",
      "33/33 [==============================] - 0s 2ms/step - loss: 0.4700 - accuracy: 0.8821\n",
      "Epoch 45/50\n",
      "33/33 [==============================] - 0s 2ms/step - loss: 0.1640 - accuracy: 0.9559\n",
      "Epoch 46/50\n",
      "33/33 [==============================] - 0s 2ms/step - loss: 0.0530 - accuracy: 0.9818\n",
      "Epoch 47/50\n",
      "33/33 [==============================] - 0s 2ms/step - loss: 0.0304 - accuracy: 0.9904\n",
      "Epoch 48/50\n",
      "33/33 [==============================] - 0s 2ms/step - loss: 0.0184 - accuracy: 0.9942\n",
      "Epoch 49/50\n",
      "33/33 [==============================] - 0s 2ms/step - loss: 0.0173 - accuracy: 0.9923\n",
      "Epoch 50/50\n",
      "33/33 [==============================] - 0s 2ms/step - loss: 0.0135 - accuracy: 0.9942\n"
     ]
    },
    {
     "data": {
      "text/plain": [
       "<keras.callbacks.History at 0x175264b5bd0>"
      ]
     },
     "execution_count": 82,
     "metadata": {},
     "output_type": "execute_result"
    }
   ],
   "source": [
    "\n",
    "model.compile(loss='sparse_categorical_crossentropy', optimizer='adam', metrics=['accuracy'])\n",
    "model.fit(X_train, y_train, epochs=50, batch_size=32)\n"
   ]
  },
  {
   "cell_type": "code",
   "execution_count": 83,
   "metadata": {},
   "outputs": [
    {
     "name": "stdout",
     "output_type": "stream",
     "text": [
      "9/9 [==============================] - 0s 873us/step\n"
     ]
    }
   ],
   "source": [
    "\n",
    "# Step 5: Make predictions\n",
    "y_pred_probs = model.predict(X_test)\n",
    "\n",
    "\n",
    "\n",
    "#Accuracy:0.8505747126436781"
   ]
  },
  {
   "cell_type": "code",
   "execution_count": 84,
   "metadata": {},
   "outputs": [
    {
     "name": "stdout",
     "output_type": "stream",
     "text": [
      "Accuracy: 0.89272030651341\n"
     ]
    }
   ],
   "source": [
    "y_pred = np.argmax(y_pred_probs,axis=1)\n",
    "\n",
    "# Step 6: Evaluate accuracy\n",
    "accuracy = accuracy_score(y_test, y_pred)\n",
    "print(\"Accuracy:\", accuracy)"
   ]
  },
  {
   "cell_type": "code",
   "execution_count": null,
   "metadata": {},
   "outputs": [],
   "source": []
  }
 ],
 "metadata": {
  "kernelspec": {
   "display_name": "pytorch-gpu",
   "language": "python",
   "name": "python3"
  },
  "language_info": {
   "codemirror_mode": {
    "name": "ipython",
    "version": 3
   },
   "file_extension": ".py",
   "mimetype": "text/x-python",
   "name": "python",
   "nbconvert_exporter": "python",
   "pygments_lexer": "ipython3",
   "version": "3.11.4"
  },
  "orig_nbformat": 4
 },
 "nbformat": 4,
 "nbformat_minor": 2
}
